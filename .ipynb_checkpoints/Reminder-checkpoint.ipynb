{
 "cells": [
  {
   "cell_type": "code",
   "execution_count": null,
   "metadata": {},
   "outputs": [],
   "source": [
    "steps\n",
    "\n",
    "model = ———\n",
    "model.fit(X_train, y_train)\n",
    "model.score(X_train, y_train)\n",
    "model.score(X_test, y_test)\n",
    "#diff metrics\n",
    "prediction_hard = model.predict(X_train, y_train)\n",
    "prediction_soft = model.predict_prob(X_train, y_train)\n",
    "\n",
    "also cross_val_scores"
   ]
  }
 ],
 "metadata": {
  "kernelspec": {
   "display_name": "Python 3",
   "language": "python",
   "name": "python3"
  }
 },
 "nbformat": 4,
 "nbformat_minor": 2
}
