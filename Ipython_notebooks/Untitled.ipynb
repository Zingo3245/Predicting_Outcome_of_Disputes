{
 "cells": [
  {
   "cell_type": "code",
   "execution_count": 1,
   "metadata": {},
   "outputs": [],
   "source": [
    "import pandas as pd\n",
    "import numpy as np\n",
    "\n",
    "# visualization imports\n",
    "import matplotlib.pyplot as plt\n",
    "import seaborn as sns\n",
    "plt.style.use('fivethirtyeight')\n",
    "\n",
    "%matplotlib inline\n",
    "\n",
    "# modelling imports\n",
    "from sklearn.linear_model import LogisticRegression\n",
    "from sklearn.model_selection import train_test_split\n",
    "from sklearn.metrics import precision_score, recall_score, accuracy_score, roc_auc_score\n",
    "from sklearn.metrics import confusion_matrix\n",
    "from sklearn.preprocessing import StandardScaler\n",
    "\n",
    "from sklearn.linear_model import Lasso\n",
    "from sklearn.linear_model import Ridge\n",
    "from sklearn.metrics import mean_squared_error\n",
    "from sklearn.model_selection import GridSearchCV\n",
    "from sklearn.metrics import mean_squared_error, mean_absolute_error\n",
    "from scipy.stats import normaltest\n",
    "from sklearn.neighbors import KNeighborsClassifier\n",
    "from sklearn.tree import DecisionTreeClassifier\n",
    "from sklearn.ensemble import RandomForestClassifier, BaggingClassifier\n",
    "from sklearn.metrics import confusion_matrix, classification_report\n",
    "\n"
   ]
  },
  {
   "cell_type": "code",
   "execution_count": 2,
   "metadata": {},
   "outputs": [],
   "source": [
    "MIDA = pd.read_csv('/Users/NickThomas/Project_Mcnulty/data/MID-level/MIDA_4.01.csv')\n",
    "MIDB = pd.read_csv('/Users/NickThomas/Project_Mcnulty/data/MID-level/MIDB_4.01.csv')"
   ]
  },
  {
   "cell_type": "code",
   "execution_count": 3,
   "metadata": {},
   "outputs": [
    {
     "data": {
      "text/html": [
       "<div>\n",
       "<style scoped>\n",
       "    .dataframe tbody tr th:only-of-type {\n",
       "        vertical-align: middle;\n",
       "    }\n",
       "\n",
       "    .dataframe tbody tr th {\n",
       "        vertical-align: top;\n",
       "    }\n",
       "\n",
       "    .dataframe thead th {\n",
       "        text-align: right;\n",
       "    }\n",
       "</style>\n",
       "<table border=\"1\" class=\"dataframe\">\n",
       "  <thead>\n",
       "    <tr style=\"text-align: right;\">\n",
       "      <th></th>\n",
       "      <th>DispNum3</th>\n",
       "      <th>DispNum4</th>\n",
       "      <th>StDay</th>\n",
       "      <th>StMon</th>\n",
       "      <th>StYear</th>\n",
       "      <th>EndDay</th>\n",
       "      <th>EndMon</th>\n",
       "      <th>EndYear</th>\n",
       "      <th>Outcome</th>\n",
       "      <th>Settle</th>\n",
       "      <th>...</th>\n",
       "      <th>HiAct</th>\n",
       "      <th>HostLev</th>\n",
       "      <th>Recip</th>\n",
       "      <th>NumA</th>\n",
       "      <th>NumB</th>\n",
       "      <th>Link1</th>\n",
       "      <th>Link2</th>\n",
       "      <th>Link3</th>\n",
       "      <th>Ongo2010</th>\n",
       "      <th>Version</th>\n",
       "    </tr>\n",
       "  </thead>\n",
       "  <tbody>\n",
       "    <tr>\n",
       "      <th>0</th>\n",
       "      <td>2</td>\n",
       "      <td>-9</td>\n",
       "      <td>-9</td>\n",
       "      <td>7</td>\n",
       "      <td>1902</td>\n",
       "      <td>24</td>\n",
       "      <td>1</td>\n",
       "      <td>1903</td>\n",
       "      <td>6</td>\n",
       "      <td>1</td>\n",
       "      <td>...</td>\n",
       "      <td>7</td>\n",
       "      <td>3</td>\n",
       "      <td>0</td>\n",
       "      <td>1</td>\n",
       "      <td>1</td>\n",
       "      <td>0</td>\n",
       "      <td>0</td>\n",
       "      <td>0.0</td>\n",
       "      <td>0</td>\n",
       "      <td>4.01</td>\n",
       "    </tr>\n",
       "    <tr>\n",
       "      <th>1</th>\n",
       "      <td>3</td>\n",
       "      <td>-9</td>\n",
       "      <td>2</td>\n",
       "      <td>5</td>\n",
       "      <td>1913</td>\n",
       "      <td>25</td>\n",
       "      <td>10</td>\n",
       "      <td>1913</td>\n",
       "      <td>4</td>\n",
       "      <td>3</td>\n",
       "      <td>...</td>\n",
       "      <td>8</td>\n",
       "      <td>3</td>\n",
       "      <td>0</td>\n",
       "      <td>1</td>\n",
       "      <td>1</td>\n",
       "      <td>0</td>\n",
       "      <td>0</td>\n",
       "      <td>0.0</td>\n",
       "      <td>0</td>\n",
       "      <td>4.01</td>\n",
       "    </tr>\n",
       "    <tr>\n",
       "      <th>2</th>\n",
       "      <td>4</td>\n",
       "      <td>-9</td>\n",
       "      <td>15</td>\n",
       "      <td>5</td>\n",
       "      <td>1946</td>\n",
       "      <td>13</td>\n",
       "      <td>11</td>\n",
       "      <td>1946</td>\n",
       "      <td>5</td>\n",
       "      <td>3</td>\n",
       "      <td>...</td>\n",
       "      <td>16</td>\n",
       "      <td>4</td>\n",
       "      <td>1</td>\n",
       "      <td>1</td>\n",
       "      <td>1</td>\n",
       "      <td>0</td>\n",
       "      <td>0</td>\n",
       "      <td>0.0</td>\n",
       "      <td>0</td>\n",
       "      <td>4.01</td>\n",
       "    </tr>\n",
       "    <tr>\n",
       "      <th>3</th>\n",
       "      <td>7</td>\n",
       "      <td>-9</td>\n",
       "      <td>13</td>\n",
       "      <td>10</td>\n",
       "      <td>1951</td>\n",
       "      <td>26</td>\n",
       "      <td>1</td>\n",
       "      <td>1952</td>\n",
       "      <td>1</td>\n",
       "      <td>3</td>\n",
       "      <td>...</td>\n",
       "      <td>17</td>\n",
       "      <td>4</td>\n",
       "      <td>1</td>\n",
       "      <td>1</td>\n",
       "      <td>1</td>\n",
       "      <td>0</td>\n",
       "      <td>0</td>\n",
       "      <td>0.0</td>\n",
       "      <td>0</td>\n",
       "      <td>4.01</td>\n",
       "    </tr>\n",
       "    <tr>\n",
       "      <th>4</th>\n",
       "      <td>8</td>\n",
       "      <td>-9</td>\n",
       "      <td>-9</td>\n",
       "      <td>7</td>\n",
       "      <td>1856</td>\n",
       "      <td>14</td>\n",
       "      <td>3</td>\n",
       "      <td>1857</td>\n",
       "      <td>1</td>\n",
       "      <td>2</td>\n",
       "      <td>...</td>\n",
       "      <td>20</td>\n",
       "      <td>5</td>\n",
       "      <td>1</td>\n",
       "      <td>1</td>\n",
       "      <td>1</td>\n",
       "      <td>0</td>\n",
       "      <td>0</td>\n",
       "      <td>0.0</td>\n",
       "      <td>0</td>\n",
       "      <td>4.01</td>\n",
       "    </tr>\n",
       "  </tbody>\n",
       "</table>\n",
       "<p>5 rows × 24 columns</p>\n",
       "</div>"
      ],
      "text/plain": [
       "   DispNum3  DispNum4  StDay  StMon  StYear  EndDay  EndMon  EndYear  Outcome  \\\n",
       "0         2        -9     -9      7    1902      24       1     1903        6   \n",
       "1         3        -9      2      5    1913      25      10     1913        4   \n",
       "2         4        -9     15      5    1946      13      11     1946        5   \n",
       "3         7        -9     13     10    1951      26       1     1952        1   \n",
       "4         8        -9     -9      7    1856      14       3     1857        1   \n",
       "\n",
       "   Settle   ...    HiAct  HostLev  Recip  NumA  NumB  Link1  Link2  Link3  \\\n",
       "0       1   ...        7        3      0     1     1      0      0    0.0   \n",
       "1       3   ...        8        3      0     1     1      0      0    0.0   \n",
       "2       3   ...       16        4      1     1     1      0      0    0.0   \n",
       "3       3   ...       17        4      1     1     1      0      0    0.0   \n",
       "4       2   ...       20        5      1     1     1      0      0    0.0   \n",
       "\n",
       "   Ongo2010 Version  \n",
       "0         0    4.01  \n",
       "1         0    4.01  \n",
       "2         0    4.01  \n",
       "3         0    4.01  \n",
       "4         0    4.01  \n",
       "\n",
       "[5 rows x 24 columns]"
      ]
     },
     "execution_count": 3,
     "metadata": {},
     "output_type": "execute_result"
    }
   ],
   "source": [
    "MIDA.head()"
   ]
  },
  {
   "cell_type": "code",
   "execution_count": 4,
   "metadata": {},
   "outputs": [
    {
     "data": {
      "text/html": [
       "<div>\n",
       "<style scoped>\n",
       "    .dataframe tbody tr th:only-of-type {\n",
       "        vertical-align: middle;\n",
       "    }\n",
       "\n",
       "    .dataframe tbody tr th {\n",
       "        vertical-align: top;\n",
       "    }\n",
       "\n",
       "    .dataframe thead th {\n",
       "        text-align: right;\n",
       "    }\n",
       "</style>\n",
       "<table border=\"1\" class=\"dataframe\">\n",
       "  <thead>\n",
       "    <tr style=\"text-align: right;\">\n",
       "      <th></th>\n",
       "      <th>DispNum3</th>\n",
       "      <th>DispNum4</th>\n",
       "      <th>StAbb</th>\n",
       "      <th>ccode</th>\n",
       "      <th>StDay</th>\n",
       "      <th>StMon</th>\n",
       "      <th>StYear</th>\n",
       "      <th>EndDay</th>\n",
       "      <th>EndMon</th>\n",
       "      <th>EndYear</th>\n",
       "      <th>SideA</th>\n",
       "      <th>RevState</th>\n",
       "      <th>RevType1</th>\n",
       "      <th>RevType2</th>\n",
       "      <th>Fatality</th>\n",
       "      <th>FataPre</th>\n",
       "      <th>HiAct</th>\n",
       "      <th>HostLev</th>\n",
       "      <th>Orig</th>\n",
       "      <th>Version</th>\n",
       "    </tr>\n",
       "  </thead>\n",
       "  <tbody>\n",
       "    <tr>\n",
       "      <th>20</th>\n",
       "      <td>13</td>\n",
       "      <td>-9</td>\n",
       "      <td>JPN</td>\n",
       "      <td>740</td>\n",
       "      <td>6</td>\n",
       "      <td>4</td>\n",
       "      <td>1863</td>\n",
       "      <td>17</td>\n",
       "      <td>8</td>\n",
       "      <td>1863</td>\n",
       "      <td>0</td>\n",
       "      <td>0</td>\n",
       "      <td>0</td>\n",
       "      <td>-9</td>\n",
       "      <td>-9</td>\n",
       "      <td>-9</td>\n",
       "      <td>0</td>\n",
       "      <td>1</td>\n",
       "      <td>1</td>\n",
       "      <td>4.01</td>\n",
       "    </tr>\n",
       "    <tr>\n",
       "      <th>21</th>\n",
       "      <td>13</td>\n",
       "      <td>-9</td>\n",
       "      <td>UKG</td>\n",
       "      <td>200</td>\n",
       "      <td>6</td>\n",
       "      <td>4</td>\n",
       "      <td>1863</td>\n",
       "      <td>17</td>\n",
       "      <td>8</td>\n",
       "      <td>1863</td>\n",
       "      <td>1</td>\n",
       "      <td>1</td>\n",
       "      <td>2</td>\n",
       "      <td>-9</td>\n",
       "      <td>-9</td>\n",
       "      <td>-9</td>\n",
       "      <td>15</td>\n",
       "      <td>4</td>\n",
       "      <td>1</td>\n",
       "      <td>4.01</td>\n",
       "    </tr>\n",
       "    <tr>\n",
       "      <th>22</th>\n",
       "      <td>13</td>\n",
       "      <td>-9</td>\n",
       "      <td>USA</td>\n",
       "      <td>2</td>\n",
       "      <td>20</td>\n",
       "      <td>7</td>\n",
       "      <td>1863</td>\n",
       "      <td>20</td>\n",
       "      <td>7</td>\n",
       "      <td>1863</td>\n",
       "      <td>1</td>\n",
       "      <td>0</td>\n",
       "      <td>0</td>\n",
       "      <td>-9</td>\n",
       "      <td>0</td>\n",
       "      <td>0</td>\n",
       "      <td>1</td>\n",
       "      <td>2</td>\n",
       "      <td>0</td>\n",
       "      <td>4.01</td>\n",
       "    </tr>\n",
       "    <tr>\n",
       "      <th>23</th>\n",
       "      <td>13</td>\n",
       "      <td>-9</td>\n",
       "      <td>FRN</td>\n",
       "      <td>220</td>\n",
       "      <td>20</td>\n",
       "      <td>7</td>\n",
       "      <td>1863</td>\n",
       "      <td>20</td>\n",
       "      <td>7</td>\n",
       "      <td>1863</td>\n",
       "      <td>1</td>\n",
       "      <td>0</td>\n",
       "      <td>0</td>\n",
       "      <td>-9</td>\n",
       "      <td>0</td>\n",
       "      <td>0</td>\n",
       "      <td>1</td>\n",
       "      <td>2</td>\n",
       "      <td>0</td>\n",
       "      <td>4.01</td>\n",
       "    </tr>\n",
       "    <tr>\n",
       "      <th>24</th>\n",
       "      <td>14</td>\n",
       "      <td>-9</td>\n",
       "      <td>TUR</td>\n",
       "      <td>640</td>\n",
       "      <td>15</td>\n",
       "      <td>10</td>\n",
       "      <td>1895</td>\n",
       "      <td>31</td>\n",
       "      <td>12</td>\n",
       "      <td>1895</td>\n",
       "      <td>0</td>\n",
       "      <td>0</td>\n",
       "      <td>0</td>\n",
       "      <td>-9</td>\n",
       "      <td>0</td>\n",
       "      <td>0</td>\n",
       "      <td>0</td>\n",
       "      <td>1</td>\n",
       "      <td>1</td>\n",
       "      <td>4.01</td>\n",
       "    </tr>\n",
       "  </tbody>\n",
       "</table>\n",
       "</div>"
      ],
      "text/plain": [
       "    DispNum3  DispNum4 StAbb  ccode  StDay  StMon  StYear  EndDay  EndMon  \\\n",
       "20        13        -9   JPN    740      6      4    1863      17       8   \n",
       "21        13        -9   UKG    200      6      4    1863      17       8   \n",
       "22        13        -9   USA      2     20      7    1863      20       7   \n",
       "23        13        -9   FRN    220     20      7    1863      20       7   \n",
       "24        14        -9   TUR    640     15     10    1895      31      12   \n",
       "\n",
       "    EndYear  SideA  RevState  RevType1  RevType2  Fatality  FataPre  HiAct  \\\n",
       "20     1863      0         0         0        -9        -9       -9      0   \n",
       "21     1863      1         1         2        -9        -9       -9     15   \n",
       "22     1863      1         0         0        -9         0        0      1   \n",
       "23     1863      1         0         0        -9         0        0      1   \n",
       "24     1895      0         0         0        -9         0        0      0   \n",
       "\n",
       "    HostLev  Orig  Version  \n",
       "20        1     1     4.01  \n",
       "21        4     1     4.01  \n",
       "22        2     0     4.01  \n",
       "23        2     0     4.01  \n",
       "24        1     1     4.01  "
      ]
     },
     "execution_count": 4,
     "metadata": {},
     "output_type": "execute_result"
    }
   ],
   "source": [
    "MIDB[20:25]"
   ]
  },
  {
   "cell_type": "code",
   "execution_count": 5,
   "metadata": {},
   "outputs": [
    {
     "name": "stdout",
     "output_type": "stream",
     "text": [
      "MIDA: (2586, 24)\n",
      "MIDB: (6132, 20)\n",
      "<class 'pandas.core.frame.DataFrame'>\n",
      "RangeIndex: 2586 entries, 0 to 2585\n",
      "Data columns (total 24 columns):\n",
      "DispNum3    2586 non-null int64\n",
      "DispNum4    2586 non-null int64\n",
      "StDay       2586 non-null int64\n",
      "StMon       2586 non-null int64\n",
      "StYear      2586 non-null int64\n",
      "EndDay      2586 non-null int64\n",
      "EndMon      2586 non-null int64\n",
      "EndYear     2586 non-null int64\n",
      "Outcome     2586 non-null int64\n",
      "Settle      2586 non-null int64\n",
      "Fatality    2586 non-null int64\n",
      "FatalPre    2586 non-null int64\n",
      "MaxDur      2586 non-null int64\n",
      "MinDur      2586 non-null int64\n",
      "HiAct       2586 non-null int64\n",
      "HostLev     2586 non-null int64\n",
      "Recip       2586 non-null int64\n",
      "NumA        2586 non-null int64\n",
      "NumB        2586 non-null int64\n",
      "Link1       2586 non-null object\n",
      "Link2       2586 non-null object\n",
      "Link3       2583 non-null float64\n",
      "Ongo2010    2586 non-null int64\n",
      "Version     2586 non-null float64\n",
      "dtypes: float64(2), int64(20), object(2)\n",
      "memory usage: 485.0+ KB\n",
      "MIDA info: None\n"
     ]
    }
   ],
   "source": [
    "print(\"MIDA:\", MIDA.shape)\n",
    "print(\"MIDB:\", MIDB.shape)\n",
    "print(\"MIDA info:\", MIDA.info())\n"
   ]
  },
  {
   "cell_type": "code",
   "execution_count": 6,
   "metadata": {},
   "outputs": [
    {
     "name": "stdout",
     "output_type": "stream",
     "text": [
      "<class 'pandas.core.frame.DataFrame'>\n",
      "RangeIndex: 6132 entries, 0 to 6131\n",
      "Data columns (total 20 columns):\n",
      "DispNum3    6132 non-null int64\n",
      "DispNum4    6132 non-null int64\n",
      "StAbb       6132 non-null object\n",
      "ccode       6132 non-null int64\n",
      "StDay       6132 non-null int64\n",
      "StMon       6132 non-null int64\n",
      "StYear      6132 non-null int64\n",
      "EndDay      6132 non-null int64\n",
      "EndMon      6132 non-null int64\n",
      "EndYear     6132 non-null int64\n",
      "SideA       6132 non-null int64\n",
      "RevState    6132 non-null int64\n",
      "RevType1    6132 non-null int64\n",
      "RevType2    6132 non-null int64\n",
      "Fatality    6132 non-null int64\n",
      "FataPre     6132 non-null int64\n",
      "HiAct       6132 non-null int64\n",
      "HostLev     6132 non-null int64\n",
      "Orig        6132 non-null int64\n",
      "Version     6132 non-null float64\n",
      "dtypes: float64(1), int64(18), object(1)\n",
      "memory usage: 958.2+ KB\n",
      "MIDB info: None\n"
     ]
    }
   ],
   "source": [
    "print(\"MIDB info:\", MIDB.info())"
   ]
  },
  {
   "cell_type": "code",
   "execution_count": 7,
   "metadata": {},
   "outputs": [
    {
     "data": {
      "text/plain": [
       "'Project McNulty: Classify countries by whether their threats are credible or not.'"
      ]
     },
     "execution_count": 7,
     "metadata": {},
     "output_type": "execute_result"
    }
   ],
   "source": [
    "\"\"\"Project McNulty: Classify countries by whether their threats are credible or not.\"\"\""
   ]
  },
  {
   "cell_type": "code",
   "execution_count": 8,
   "metadata": {},
   "outputs": [],
   "source": [
    "MIDA = MIDA.replace(-9, np.nan)\n",
    "MIDB = MIDB.replace(-9, np.nan)\n",
    "MIDA['Outcome'] = MIDA.Outcome.replace(8, -9)\n",
    "MIDA['Settle'] = MIDA.Settle.replace(4, -9)"
   ]
  },
  {
   "cell_type": "code",
   "execution_count": 9,
   "metadata": {},
   "outputs": [
    {
     "data": {
      "text/plain": [
       "5.0    1732\n",
       "7.0     193\n",
       "6.0     146\n",
       "4.0     135\n",
       "1.0     131\n",
       "3.0      64\n",
       "2.0      60\n",
       "9.0      24\n",
       "Name: Outcome, dtype: int64"
      ]
     },
     "execution_count": 9,
     "metadata": {},
     "output_type": "execute_result"
    }
   ],
   "source": [
    "MIDA.Outcome.value_counts()"
   ]
  },
  {
   "cell_type": "code",
   "execution_count": 10,
   "metadata": {},
   "outputs": [
    {
     "name": "stdout",
     "output_type": "stream",
     "text": [
      "<class 'pandas.core.frame.DataFrame'>\n",
      "Int64Index: 212 entries, 2235 to 2584\n",
      "Data columns (total 24 columns):\n",
      "DispNum3    212 non-null int64\n",
      "DispNum4    212 non-null float64\n",
      "StDay       212 non-null float64\n",
      "StMon       212 non-null int64\n",
      "StYear      212 non-null int64\n",
      "EndDay      212 non-null float64\n",
      "EndMon      212 non-null int64\n",
      "EndYear     212 non-null int64\n",
      "Outcome     212 non-null float64\n",
      "Settle      212 non-null float64\n",
      "Fatality    212 non-null float64\n",
      "FatalPre    212 non-null float64\n",
      "MaxDur      212 non-null int64\n",
      "MinDur      212 non-null int64\n",
      "HiAct       212 non-null int64\n",
      "HostLev     212 non-null int64\n",
      "Recip       212 non-null int64\n",
      "NumA        212 non-null int64\n",
      "NumB        212 non-null int64\n",
      "Link1       212 non-null object\n",
      "Link2       212 non-null object\n",
      "Link3       212 non-null float64\n",
      "Ongo2010    212 non-null int64\n",
      "Version     212 non-null float64\n",
      "dtypes: float64(9), int64(13), object(2)\n",
      "memory usage: 41.4+ KB\n"
     ]
    }
   ],
   "source": [
    "#del MIDA['DispNum4']\n",
    "MIDA_no_null = MIDA.dropna(axis=0, how='any')\n",
    "MIDA_no_null.info()"
   ]
  },
  {
   "cell_type": "code",
   "execution_count": 11,
   "metadata": {},
   "outputs": [
    {
     "name": "stdout",
     "output_type": "stream",
     "text": [
      "<class 'pandas.core.frame.DataFrame'>\n",
      "RangeIndex: 2586 entries, 0 to 2585\n",
      "Data columns (total 24 columns):\n",
      "DispNum3    2586 non-null int64\n",
      "DispNum4    262 non-null float64\n",
      "StDay       2284 non-null float64\n",
      "StMon       2586 non-null int64\n",
      "StYear      2586 non-null int64\n",
      "EndDay      2298 non-null float64\n",
      "EndMon      2586 non-null int64\n",
      "EndYear     2586 non-null int64\n",
      "Outcome     2485 non-null float64\n",
      "Settle      2499 non-null float64\n",
      "Fatality    2313 non-null float64\n",
      "FatalPre    1910 non-null float64\n",
      "MaxDur      2586 non-null int64\n",
      "MinDur      2586 non-null int64\n",
      "HiAct       2586 non-null int64\n",
      "HostLev     2586 non-null int64\n",
      "Recip       2586 non-null int64\n",
      "NumA        2586 non-null int64\n",
      "NumB        2586 non-null int64\n",
      "Link1       2586 non-null object\n",
      "Link2       2586 non-null object\n",
      "Link3       2583 non-null float64\n",
      "Ongo2010    2586 non-null int64\n",
      "Version     2586 non-null float64\n",
      "dtypes: float64(9), int64(13), object(2)\n",
      "memory usage: 485.0+ KB\n"
     ]
    }
   ],
   "source": [
    "MIDA.info()"
   ]
  },
  {
   "cell_type": "code",
   "execution_count": 12,
   "metadata": {},
   "outputs": [
    {
     "name": "stdout",
     "output_type": "stream",
     "text": [
      "<class 'pandas.core.frame.DataFrame'>\n",
      "RangeIndex: 6132 entries, 0 to 6131\n",
      "Data columns (total 20 columns):\n",
      "DispNum3    6132 non-null int64\n",
      "DispNum4    564 non-null float64\n",
      "StAbb       6132 non-null object\n",
      "ccode       6132 non-null int64\n",
      "StDay       5473 non-null float64\n",
      "StMon       6132 non-null int64\n",
      "StYear      6132 non-null int64\n",
      "EndDay      5500 non-null float64\n",
      "EndMon      6132 non-null int64\n",
      "EndYear     6132 non-null int64\n",
      "SideA       6132 non-null int64\n",
      "RevState    6132 non-null int64\n",
      "RevType1    6132 non-null int64\n",
      "RevType2    1333 non-null float64\n",
      "Fatality    5505 non-null float64\n",
      "FataPre     4623 non-null float64\n",
      "HiAct       6132 non-null int64\n",
      "HostLev     6132 non-null int64\n",
      "Orig        6132 non-null int64\n",
      "Version     6132 non-null float64\n",
      "dtypes: float64(7), int64(12), object(1)\n",
      "memory usage: 958.2+ KB\n"
     ]
    }
   ],
   "source": [
    "MIDB.info()"
   ]
  },
  {
   "cell_type": "code",
   "execution_count": 13,
   "metadata": {},
   "outputs": [],
   "source": [
    "#MIDA.to_csv('MIDA.csv')\n",
    "#MIDB.to_csv('MIDB.csv')"
   ]
  },
  {
   "cell_type": "code",
   "execution_count": 14,
   "metadata": {},
   "outputs": [],
   "source": [
    "#MIDA = pd.read_csv('/Users/NickThomas/Project_Mcnulty/data/MIDA.csv')\n",
    "#MIDB = pd.read_csv('/Users/NickThomas/Project_Mcnulty/data/MIDB.csv')"
   ]
  },
  {
   "cell_type": "code",
   "execution_count": 15,
   "metadata": {},
   "outputs": [],
   "source": [
    "#del MIDA['Unnamed: 0']\n"
   ]
  },
  {
   "cell_type": "code",
   "execution_count": 16,
   "metadata": {},
   "outputs": [
    {
     "name": "stdout",
     "output_type": "stream",
     "text": [
      "<class 'pandas.core.frame.DataFrame'>\n",
      "RangeIndex: 2586 entries, 0 to 2585\n",
      "Data columns (total 24 columns):\n",
      "DispNum3    2586 non-null int64\n",
      "DispNum4    262 non-null float64\n",
      "StDay       2284 non-null float64\n",
      "StMon       2586 non-null int64\n",
      "StYear      2586 non-null int64\n",
      "EndDay      2298 non-null float64\n",
      "EndMon      2586 non-null int64\n",
      "EndYear     2586 non-null int64\n",
      "Outcome     2485 non-null float64\n",
      "Settle      2499 non-null float64\n",
      "Fatality    2313 non-null float64\n",
      "FatalPre    1910 non-null float64\n",
      "MaxDur      2586 non-null int64\n",
      "MinDur      2586 non-null int64\n",
      "HiAct       2586 non-null int64\n",
      "HostLev     2586 non-null int64\n",
      "Recip       2586 non-null int64\n",
      "NumA        2586 non-null int64\n",
      "NumB        2586 non-null int64\n",
      "Link1       2586 non-null object\n",
      "Link2       2586 non-null object\n",
      "Link3       2583 non-null float64\n",
      "Ongo2010    2586 non-null int64\n",
      "Version     2586 non-null float64\n",
      "dtypes: float64(9), int64(13), object(2)\n",
      "memory usage: 485.0+ KB\n"
     ]
    }
   ],
   "source": [
    "MIDA.info()"
   ]
  },
  {
   "cell_type": "code",
   "execution_count": 17,
   "metadata": {},
   "outputs": [],
   "source": [
    "#del MIDB['Unnamed: 0']\n"
   ]
  },
  {
   "cell_type": "code",
   "execution_count": 18,
   "metadata": {},
   "outputs": [
    {
     "name": "stdout",
     "output_type": "stream",
     "text": [
      "<class 'pandas.core.frame.DataFrame'>\n",
      "RangeIndex: 6132 entries, 0 to 6131\n",
      "Data columns (total 20 columns):\n",
      "DispNum3    6132 non-null int64\n",
      "DispNum4    564 non-null float64\n",
      "StAbb       6132 non-null object\n",
      "ccode       6132 non-null int64\n",
      "StDay       5473 non-null float64\n",
      "StMon       6132 non-null int64\n",
      "StYear      6132 non-null int64\n",
      "EndDay      5500 non-null float64\n",
      "EndMon      6132 non-null int64\n",
      "EndYear     6132 non-null int64\n",
      "SideA       6132 non-null int64\n",
      "RevState    6132 non-null int64\n",
      "RevType1    6132 non-null int64\n",
      "RevType2    1333 non-null float64\n",
      "Fatality    5505 non-null float64\n",
      "FataPre     4623 non-null float64\n",
      "HiAct       6132 non-null int64\n",
      "HostLev     6132 non-null int64\n",
      "Orig        6132 non-null int64\n",
      "Version     6132 non-null float64\n",
      "dtypes: float64(7), int64(12), object(1)\n",
      "memory usage: 958.2+ KB\n"
     ]
    }
   ],
   "source": [
    "MIDB.info()"
   ]
  },
  {
   "cell_type": "code",
   "execution_count": 19,
   "metadata": {},
   "outputs": [
    {
     "data": {
      "text/plain": [
       "False    6132\n",
       "Name: DispNum3, dtype: int64"
      ]
     },
     "execution_count": 19,
     "metadata": {},
     "output_type": "execute_result"
    }
   ],
   "source": [
    "MIDB.DispNum3.isnull().value_counts()"
   ]
  },
  {
   "cell_type": "code",
   "execution_count": 20,
   "metadata": {},
   "outputs": [
    {
     "name": "stdout",
     "output_type": "stream",
     "text": [
      "<class 'pandas.core.frame.DataFrame'>\n",
      "Int64Index: 6132 entries, 2 to 4599\n",
      "Data columns (total 42 columns):\n",
      "DispNum4_A    564 non-null float64\n",
      "StDay_A       5460 non-null float64\n",
      "StMon_A       6132 non-null int64\n",
      "StYear_A      6132 non-null int64\n",
      "EndDay_A      5519 non-null float64\n",
      "EndMon_A      6132 non-null int64\n",
      "EndYear_A     6132 non-null int64\n",
      "Outcome       5898 non-null float64\n",
      "Settle        5851 non-null float64\n",
      "Fatality_A    5450 non-null float64\n",
      "FatalPre      4274 non-null float64\n",
      "MaxDur        6132 non-null int64\n",
      "MinDur        6132 non-null int64\n",
      "HiAct_A       6132 non-null int64\n",
      "HostLev_A     6132 non-null int64\n",
      "Recip         6132 non-null int64\n",
      "NumA          6132 non-null int64\n",
      "NumB          6132 non-null int64\n",
      "Link1         6132 non-null object\n",
      "Link2         6132 non-null object\n",
      "Link3         6126 non-null float64\n",
      "Ongo2010      6132 non-null int64\n",
      "Version_A     6132 non-null float64\n",
      "DispNum4_B    564 non-null float64\n",
      "StAbb         6132 non-null object\n",
      "ccode         6132 non-null int64\n",
      "StDay_B       5473 non-null float64\n",
      "StMon_B       6132 non-null int64\n",
      "StYear_B      6132 non-null int64\n",
      "EndDay_B      5500 non-null float64\n",
      "EndMon_B      6132 non-null int64\n",
      "EndYear_B     6132 non-null int64\n",
      "SideA         6132 non-null int64\n",
      "RevState      6132 non-null int64\n",
      "RevType1      6132 non-null int64\n",
      "RevType2      1333 non-null float64\n",
      "Fatality_B    5505 non-null float64\n",
      "FataPre       4623 non-null float64\n",
      "HiAct_B       6132 non-null int64\n",
      "HostLev_B     6132 non-null int64\n",
      "Orig          6132 non-null int64\n",
      "Version_B     6132 non-null float64\n",
      "dtypes: float64(16), int64(23), object(3)\n",
      "memory usage: 2.0+ MB\n"
     ]
    }
   ],
   "source": [
    "MID_Total = MIDA.set_index('DispNum3').join(MIDB.set_index('DispNum3'), lsuffix='_A', rsuffix='_B')\n",
    "MID_Total.info()"
   ]
  },
  {
   "cell_type": "code",
   "execution_count": 21,
   "metadata": {},
   "outputs": [
    {
     "data": {
      "text/plain": [
       "Index(['DispNum4_A', 'StDay_A', 'StMon_A', 'StYear_A', 'EndDay_A', 'EndMon_A',\n",
       "       'EndYear_A', 'Outcome', 'Settle', 'Fatality_A', 'FatalPre', 'MaxDur',\n",
       "       'MinDur', 'HiAct_A', 'HostLev_A', 'Recip', 'NumA', 'NumB', 'Link1',\n",
       "       'Link2', 'Link3', 'Ongo2010', 'Version_A', 'DispNum4_B', 'StAbb',\n",
       "       'ccode', 'StDay_B', 'StMon_B', 'StYear_B', 'EndDay_B', 'EndMon_B',\n",
       "       'EndYear_B', 'SideA', 'RevState', 'RevType1', 'RevType2', 'Fatality_B',\n",
       "       'FataPre', 'HiAct_B', 'HostLev_B', 'Orig', 'Version_B'],\n",
       "      dtype='object')"
      ]
     },
     "execution_count": 21,
     "metadata": {},
     "output_type": "execute_result"
    }
   ],
   "source": [
    "MID_Total.columns"
   ]
  },
  {
   "cell_type": "code",
   "execution_count": 22,
   "metadata": {},
   "outputs": [
    {
     "data": {
      "text/html": [
       "<div>\n",
       "<style scoped>\n",
       "    .dataframe tbody tr th:only-of-type {\n",
       "        vertical-align: middle;\n",
       "    }\n",
       "\n",
       "    .dataframe tbody tr th {\n",
       "        vertical-align: top;\n",
       "    }\n",
       "\n",
       "    .dataframe thead th {\n",
       "        text-align: right;\n",
       "    }\n",
       "</style>\n",
       "<table border=\"1\" class=\"dataframe\">\n",
       "  <thead>\n",
       "    <tr style=\"text-align: right;\">\n",
       "      <th></th>\n",
       "      <th>DispNum4</th>\n",
       "      <th>StDay</th>\n",
       "      <th>StMon</th>\n",
       "      <th>StYear</th>\n",
       "      <th>EndDay</th>\n",
       "      <th>EndMon</th>\n",
       "      <th>EndYear</th>\n",
       "      <th>Outcome</th>\n",
       "      <th>Settle</th>\n",
       "      <th>Fatality</th>\n",
       "      <th>...</th>\n",
       "      <th>Ongo2010</th>\n",
       "      <th>Version</th>\n",
       "      <th>StAbb</th>\n",
       "      <th>ccode</th>\n",
       "      <th>SideA</th>\n",
       "      <th>RevState</th>\n",
       "      <th>RevType1</th>\n",
       "      <th>RevType2</th>\n",
       "      <th>FataPre</th>\n",
       "      <th>Orig</th>\n",
       "    </tr>\n",
       "  </thead>\n",
       "  <tbody>\n",
       "    <tr>\n",
       "      <th>0</th>\n",
       "      <td>NaN</td>\n",
       "      <td>NaN</td>\n",
       "      <td>7</td>\n",
       "      <td>1902</td>\n",
       "      <td>24.0</td>\n",
       "      <td>1</td>\n",
       "      <td>1903</td>\n",
       "      <td>6.0</td>\n",
       "      <td>1.0</td>\n",
       "      <td>0.0</td>\n",
       "      <td>...</td>\n",
       "      <td>0</td>\n",
       "      <td>4.01</td>\n",
       "      <td>USA</td>\n",
       "      <td>2</td>\n",
       "      <td>1</td>\n",
       "      <td>1</td>\n",
       "      <td>1</td>\n",
       "      <td>NaN</td>\n",
       "      <td>0.0</td>\n",
       "      <td>1</td>\n",
       "    </tr>\n",
       "    <tr>\n",
       "      <th>1</th>\n",
       "      <td>NaN</td>\n",
       "      <td>2.0</td>\n",
       "      <td>5</td>\n",
       "      <td>1913</td>\n",
       "      <td>25.0</td>\n",
       "      <td>10</td>\n",
       "      <td>1913</td>\n",
       "      <td>4.0</td>\n",
       "      <td>3.0</td>\n",
       "      <td>0.0</td>\n",
       "      <td>...</td>\n",
       "      <td>0</td>\n",
       "      <td>4.01</td>\n",
       "      <td>AUH</td>\n",
       "      <td>300</td>\n",
       "      <td>1</td>\n",
       "      <td>1</td>\n",
       "      <td>2</td>\n",
       "      <td>NaN</td>\n",
       "      <td>0.0</td>\n",
       "      <td>1</td>\n",
       "    </tr>\n",
       "    <tr>\n",
       "      <th>2</th>\n",
       "      <td>NaN</td>\n",
       "      <td>13.0</td>\n",
       "      <td>10</td>\n",
       "      <td>1951</td>\n",
       "      <td>26.0</td>\n",
       "      <td>1</td>\n",
       "      <td>1952</td>\n",
       "      <td>1.0</td>\n",
       "      <td>3.0</td>\n",
       "      <td>2.0</td>\n",
       "      <td>...</td>\n",
       "      <td>0</td>\n",
       "      <td>4.01</td>\n",
       "      <td>EGY</td>\n",
       "      <td>651</td>\n",
       "      <td>0</td>\n",
       "      <td>1</td>\n",
       "      <td>2</td>\n",
       "      <td>NaN</td>\n",
       "      <td>NaN</td>\n",
       "      <td>1</td>\n",
       "    </tr>\n",
       "    <tr>\n",
       "      <th>3</th>\n",
       "      <td>NaN</td>\n",
       "      <td>NaN</td>\n",
       "      <td>7</td>\n",
       "      <td>1856</td>\n",
       "      <td>14.0</td>\n",
       "      <td>3</td>\n",
       "      <td>1857</td>\n",
       "      <td>1.0</td>\n",
       "      <td>2.0</td>\n",
       "      <td>6.0</td>\n",
       "      <td>...</td>\n",
       "      <td>0</td>\n",
       "      <td>4.01</td>\n",
       "      <td>IRN</td>\n",
       "      <td>630</td>\n",
       "      <td>0</td>\n",
       "      <td>0</td>\n",
       "      <td>0</td>\n",
       "      <td>NaN</td>\n",
       "      <td>NaN</td>\n",
       "      <td>1</td>\n",
       "    </tr>\n",
       "    <tr>\n",
       "      <th>4</th>\n",
       "      <td>NaN</td>\n",
       "      <td>NaN</td>\n",
       "      <td>7</td>\n",
       "      <td>1856</td>\n",
       "      <td>14.0</td>\n",
       "      <td>3</td>\n",
       "      <td>1857</td>\n",
       "      <td>1.0</td>\n",
       "      <td>2.0</td>\n",
       "      <td>6.0</td>\n",
       "      <td>...</td>\n",
       "      <td>0</td>\n",
       "      <td>4.01</td>\n",
       "      <td>UKG</td>\n",
       "      <td>200</td>\n",
       "      <td>1</td>\n",
       "      <td>1</td>\n",
       "      <td>2</td>\n",
       "      <td>NaN</td>\n",
       "      <td>NaN</td>\n",
       "      <td>1</td>\n",
       "    </tr>\n",
       "  </tbody>\n",
       "</table>\n",
       "<p>5 rows × 31 columns</p>\n",
       "</div>"
      ],
      "text/plain": [
       "   DispNum4  StDay  StMon  StYear  EndDay  EndMon  EndYear  Outcome  Settle  \\\n",
       "0       NaN    NaN      7    1902    24.0       1     1903      6.0     1.0   \n",
       "1       NaN    2.0      5    1913    25.0      10     1913      4.0     3.0   \n",
       "2       NaN   13.0     10    1951    26.0       1     1952      1.0     3.0   \n",
       "3       NaN    NaN      7    1856    14.0       3     1857      1.0     2.0   \n",
       "4       NaN    NaN      7    1856    14.0       3     1857      1.0     2.0   \n",
       "\n",
       "   Fatality ...   Ongo2010  Version  StAbb  ccode  SideA  RevState  RevType1  \\\n",
       "0       0.0 ...          0     4.01    USA      2      1         1         1   \n",
       "1       0.0 ...          0     4.01    AUH    300      1         1         2   \n",
       "2       2.0 ...          0     4.01    EGY    651      0         1         2   \n",
       "3       6.0 ...          0     4.01    IRN    630      0         0         0   \n",
       "4       6.0 ...          0     4.01    UKG    200      1         1         2   \n",
       "\n",
       "   RevType2 FataPre Orig  \n",
       "0       NaN     0.0    1  \n",
       "1       NaN     0.0    1  \n",
       "2       NaN     NaN    1  \n",
       "3       NaN     NaN    1  \n",
       "4       NaN     NaN    1  \n",
       "\n",
       "[5 rows x 31 columns]"
      ]
     },
     "execution_count": 22,
     "metadata": {},
     "output_type": "execute_result"
    }
   ],
   "source": [
    "MID_merge = MIDA.set_index('DispNum3').merge(MIDB.set_index('DispNum3'))\n",
    "MID_merge.head()"
   ]
  },
  {
   "cell_type": "code",
   "execution_count": 23,
   "metadata": {},
   "outputs": [
    {
     "data": {
      "text/plain": [
       "4    3858\n",
       "3    1568\n",
       "5     464\n",
       "2     242\n",
       "Name: HostLev_A, dtype: int64"
      ]
     },
     "execution_count": 23,
     "metadata": {},
     "output_type": "execute_result"
    }
   ],
   "source": [
    "MID_Total.HostLev_A.value_counts()"
   ]
  },
  {
   "cell_type": "code",
   "execution_count": 24,
   "metadata": {},
   "outputs": [],
   "source": [
    "MIDA_mask = MIDA.Outcome.notnull()\n",
    "MIDA = MIDA[MIDA_mask]\n",
    "MID_Total_mask = MID_Total.Outcome.notnull()\n",
    "MID_Total = MID_Total[MID_Total_mask]\n"
   ]
  },
  {
   "cell_type": "code",
   "execution_count": null,
   "metadata": {},
   "outputs": [],
   "source": []
  },
  {
   "cell_type": "code",
   "execution_count": 25,
   "metadata": {},
   "outputs": [
    {
     "name": "stdout",
     "output_type": "stream",
     "text": [
      "<class 'pandas.core.frame.DataFrame'>\n",
      "Int64Index: 5898 entries, 2 to 4598\n",
      "Data columns (total 42 columns):\n",
      "DispNum4_A    521 non-null float64\n",
      "StDay_A       5244 non-null float64\n",
      "StMon_A       5898 non-null int64\n",
      "StYear_A      5898 non-null int64\n",
      "EndDay_A      5324 non-null float64\n",
      "EndMon_A      5898 non-null int64\n",
      "EndYear_A     5898 non-null int64\n",
      "Outcome       5898 non-null float64\n",
      "Settle        5739 non-null float64\n",
      "Fatality_A    5232 non-null float64\n",
      "FatalPre      4092 non-null float64\n",
      "MaxDur        5898 non-null int64\n",
      "MinDur        5898 non-null int64\n",
      "HiAct_A       5898 non-null int64\n",
      "HostLev_A     5898 non-null int64\n",
      "Recip         5898 non-null int64\n",
      "NumA          5898 non-null int64\n",
      "NumB          5898 non-null int64\n",
      "Link1         5898 non-null object\n",
      "Link2         5898 non-null object\n",
      "Link3         5892 non-null float64\n",
      "Ongo2010      5898 non-null int64\n",
      "Version_A     5898 non-null float64\n",
      "DispNum4_B    521 non-null float64\n",
      "StAbb         5898 non-null object\n",
      "ccode         5898 non-null int64\n",
      "StDay_B       5257 non-null float64\n",
      "StMon_B       5898 non-null int64\n",
      "StYear_B      5898 non-null int64\n",
      "EndDay_B      5306 non-null float64\n",
      "EndMon_B      5898 non-null int64\n",
      "EndYear_B     5898 non-null int64\n",
      "SideA         5898 non-null int64\n",
      "RevState      5898 non-null int64\n",
      "RevType1      5898 non-null int64\n",
      "RevType2      1243 non-null float64\n",
      "Fatality_B    5287 non-null float64\n",
      "FataPre       4433 non-null float64\n",
      "HiAct_B       5898 non-null int64\n",
      "HostLev_B     5898 non-null int64\n",
      "Orig          5898 non-null int64\n",
      "Version_B     5898 non-null float64\n",
      "dtypes: float64(16), int64(23), object(3)\n",
      "memory usage: 1.9+ MB\n"
     ]
    }
   ],
   "source": [
    "MID_Total.info()"
   ]
  },
  {
   "cell_type": "code",
   "execution_count": 26,
   "metadata": {},
   "outputs": [
    {
     "data": {
      "text/plain": [
       "DispNum3\n",
       "2       1\n",
       "2       1\n",
       "3       0\n",
       "3       1\n",
       "4       0\n",
       "4       0\n",
       "7       0\n",
       "7       1\n",
       "8       0\n",
       "8       1\n",
       "9       0\n",
       "9       1\n",
       "11      0\n",
       "11      1\n",
       "12      0\n",
       "12      0\n",
       "12      0\n",
       "12      0\n",
       "12      1\n",
       "12      0\n",
       "13      0\n",
       "13      1\n",
       "13      0\n",
       "13      0\n",
       "14      0\n",
       "14      1\n",
       "15      1\n",
       "15      1\n",
       "16      0\n",
       "16      0\n",
       "       ..\n",
       "4583    0\n",
       "4583    0\n",
       "4584    1\n",
       "4584    0\n",
       "4586    1\n",
       "4586    0\n",
       "4587    1\n",
       "4587    0\n",
       "4588    1\n",
       "4588    1\n",
       "4589    0\n",
       "4589    0\n",
       "4590    0\n",
       "4590    0\n",
       "4591    0\n",
       "4591    1\n",
       "4592    0\n",
       "4592    1\n",
       "4593    0\n",
       "4593    0\n",
       "4594    0\n",
       "4594    0\n",
       "4595    0\n",
       "4595    0\n",
       "4596    1\n",
       "4596    0\n",
       "4597    0\n",
       "4597    0\n",
       "4598    1\n",
       "4598    1\n",
       "Name: RevState, Length: 5898, dtype: category\n",
       "Categories (2, int64): [0, 1]"
      ]
     },
     "execution_count": 26,
     "metadata": {},
     "output_type": "execute_result"
    }
   ],
   "source": [
    "everything = ([MID_Total.Outcome, MID_Total.Settle, MID_Total.Fatality_A, MID_Total.HiAct_A, MID_Total.HostLev_A, \n",
    "               MID_Total.RevType1, MID_Total.RevType2, MID_Total.Fatality_B, MID_Total.HiAct_B, MID_Total.HostLev_B]\n",
    ")\n",
    "MID_Total.Outcome.astype('category')\n",
    "MID_Total.Settle.astype('category')\n",
    "MID_Total.Fatality_A.astype('category')\n",
    "MID_Total.HiAct_A.astype('category')\n",
    "MID_Total.HostLev_A.astype('category')\n",
    "MID_Total.RevType1.astype('category')\n",
    "MID_Total.RevType2.astype('category')\n",
    "MID_Total.Fatality_B.astype('category')\n",
    "MID_Total.HiAct_B.astype('category')\n",
    "MID_Total.HostLev_B.astype('category')\n",
    "MID_Total.StAbb.astype('category')\n",
    "MID_Total.ccode.astype('category')\n",
    "MID_Total.SideA.astype('category')\n",
    "MID_Total.Recip.astype('category')\n",
    "MID_Total.RevState.astype('category')\n"
   ]
  },
  {
   "cell_type": "code",
   "execution_count": 27,
   "metadata": {},
   "outputs": [
    {
     "name": "stdout",
     "output_type": "stream",
     "text": [
      "5.0    3868\n",
      "1.0     436\n",
      "7.0     397\n",
      "4.0     369\n",
      "6.0     345\n",
      "2.0     243\n",
      "3.0     181\n",
      "9.0      59\n",
      "Name: Outcome, dtype: int64\n"
     ]
    },
    {
     "data": {
      "image/png": "[encoded data removed]",
      "text/plain": [
       "<Figure size 432x288 with 1 Axes>"
      ]
     },
     "metadata": {},
     "output_type": "display_data"
    }
   ],
   "source": [
    "MID_Total.Outcome.hist(edgecolor='black')\n",
    "print(MID_Total.Outcome.value_counts())"
   ]
  },
  {
   "cell_type": "code",
   "execution_count": null,
   "metadata": {},
   "outputs": [],
   "source": []
  },
  {
   "cell_type": "code",
   "execution_count": 28,
   "metadata": {},
   "outputs": [],
   "source": [
    "MID_last_50 = MID_Total[MID_Total['EndYear_A'] > 1960]"
   ]
  },
  {
   "cell_type": "code",
   "execution_count": 29,
   "metadata": {},
   "outputs": [
    {
     "data": {
      "text/plain": [
       "USA    198\n",
       "IRN    134\n",
       "CHN    124\n",
       "USR    113\n",
       "IRQ    109\n",
       "ISR     91\n",
       "TUR     84\n",
       "IND     78\n",
       "JPN     68\n",
       "SYR     62\n",
       "THI     61\n",
       "RUS     58\n",
       "UKG     57\n",
       "EGY     54\n",
       "ROK     52\n",
       "PAK     52\n",
       "PRK     49\n",
       "ETH     46\n",
       "GRC     44\n",
       "SUD     44\n",
       "FRN     39\n",
       "UGA     38\n",
       "LIB     36\n",
       "SOM     32\n",
       "SAU     31\n",
       "ZAM     31\n",
       "TAW     31\n",
       "MYA     30\n",
       "SPN     29\n",
       "ARG     29\n",
       "      ... \n",
       "SLO      2\n",
       "LES      2\n",
       "MAW      2\n",
       "MON      2\n",
       "MEX      2\n",
       "SOL      2\n",
       "NAM      2\n",
       "GAM      2\n",
       "LAT      2\n",
       "KZK      2\n",
       "URU      2\n",
       "BOL      2\n",
       "GNB      2\n",
       "CEN      2\n",
       "AAB      1\n",
       "BHM      1\n",
       "DMA      1\n",
       "GRN      1\n",
       "COM      1\n",
       "PAL      1\n",
       "SLU      1\n",
       "JAM      1\n",
       "LIE      1\n",
       "MAG      1\n",
       "SVG      1\n",
       "TKM      1\n",
       "MAD      1\n",
       "BLR      1\n",
       "BAR      1\n",
       "PAR      1\n",
       "Name: StAbb, Length: 181, dtype: int64"
      ]
     },
     "execution_count": 29,
     "metadata": {},
     "output_type": "execute_result"
    }
   ],
   "source": [
    "MID_last_50.StAbb.value_counts()"
   ]
  },
  {
   "cell_type": "code",
   "execution_count": 30,
   "metadata": {},
   "outputs": [],
   "source": [
    "MID_Total['Stalemate'] = (MID_Total['Outcome'] == 5).astype(int)"
   ]
  },
  {
   "cell_type": "code",
   "execution_count": 31,
   "metadata": {},
   "outputs": [
    {
     "name": "stdout",
     "output_type": "stream",
     "text": [
      "<class 'pandas.core.frame.DataFrame'>\n",
      "Int64Index: 2030 entries, 2 to 4592\n",
      "Data columns (total 43 columns):\n",
      "DispNum4_A    65 non-null float64\n",
      "StDay_A       1729 non-null float64\n",
      "StMon_A       2030 non-null int64\n",
      "StYear_A      2030 non-null int64\n",
      "EndDay_A      1843 non-null float64\n",
      "EndMon_A      2030 non-null int64\n",
      "EndYear_A     2030 non-null int64\n",
      "Outcome       2030 non-null float64\n",
      "Settle        1904 non-null float64\n",
      "Fatality_A    1738 non-null float64\n",
      "FatalPre      1200 non-null float64\n",
      "MaxDur        2030 non-null int64\n",
      "MinDur        2030 non-null int64\n",
      "HiAct_A       2030 non-null int64\n",
      "HostLev_A     2030 non-null int64\n",
      "Recip         2030 non-null int64\n",
      "NumA          2030 non-null int64\n",
      "NumB          2030 non-null int64\n",
      "Link1         2030 non-null object\n",
      "Link2         2030 non-null object\n",
      "Link3         2028 non-null float64\n",
      "Ongo2010      2030 non-null int64\n",
      "Version_A     2030 non-null float64\n",
      "DispNum4_B    65 non-null float64\n",
      "StAbb         2030 non-null object\n",
      "ccode         2030 non-null int64\n",
      "StDay_B       1741 non-null float64\n",
      "StMon_B       2030 non-null int64\n",
      "StYear_B      2030 non-null int64\n",
      "EndDay_B      1828 non-null float64\n",
      "EndMon_B      2030 non-null int64\n",
      "EndYear_B     2030 non-null int64\n",
      "SideA         2030 non-null int64\n",
      "RevState      2030 non-null int64\n",
      "RevType1      2030 non-null int64\n",
      "RevType2      298 non-null float64\n",
      "Fatality_B    1758 non-null float64\n",
      "FataPre       1383 non-null float64\n",
      "HiAct_B       2030 non-null int64\n",
      "HostLev_B     2030 non-null int64\n",
      "Orig          2030 non-null int64\n",
      "Version_B     2030 non-null float64\n",
      "Stalemate     2030 non-null int64\n",
      "dtypes: float64(16), int64(24), object(3)\n",
      "memory usage: 697.8+ KB\n"
     ]
    }
   ],
   "source": [
    "no_mate_mask = MID_Total['Outcome'] != 5\n",
    "MID_no_mate = MID_Total[no_mate_mask]\n",
    "MID_no_mate.info()"
   ]
  },
  {
   "cell_type": "code",
   "execution_count": 32,
   "metadata": {},
   "outputs": [
    {
     "data": {
      "text/plain": [
       "1.0    436\n",
       "7.0    397\n",
       "4.0    369\n",
       "6.0    345\n",
       "2.0    243\n",
       "3.0    181\n",
       "9.0     59\n",
       "Name: Outcome, dtype: int64"
      ]
     },
     "execution_count": 32,
     "metadata": {},
     "output_type": "execute_result"
    }
   ],
   "source": [
    "MID_no_mate.Outcome.value_counts()"
   ]
  },
  {
   "cell_type": "code",
   "execution_count": 33,
   "metadata": {},
   "outputs": [
    {
     "name": "stdout",
     "output_type": "stream",
     "text": [
      "1    3868\n",
      "0    2030\n",
      "Name: Stalemate, dtype: int64\n",
      "There is a stalemate 65.5815530688369 percent of the time\n"
     ]
    }
   ],
   "source": [
    "print(MID_Total.Stalemate.value_counts())\n",
    "print(\"There is a stalemate\", round(100 * (3868 / (3868 + 2030)), 2), \"percent of the time\")"
   ]
  },
  {
   "cell_type": "code",
   "execution_count": 34,
   "metadata": {},
   "outputs": [
    {
     "data": {
      "text/plain": [
       "<matplotlib.axes._subplots.AxesSubplot at 0x10790a278>"
      ]
     },
     "execution_count": 34,
     "metadata": {},
     "output_type": "execute_result"
    },
    {
     "data": {
      "image/png": "[encoded data removed]",
      "text/plain": [
       "<Figure size 432x288 with 1 Axes>"
      ]
     },
     "metadata": {},
     "output_type": "display_data"
    }
   ],
   "source": [
    "MID_Total.Stalemate.hist()"
   ]
  },
  {
   "cell_type": "code",
   "execution_count": 35,
   "metadata": {},
   "outputs": [],
   "source": [
    "MID_Total.to_csv('MID_Total.csv', na_rep=np.NaN)"
   ]
  },
  {
   "cell_type": "code",
   "execution_count": 36,
   "metadata": {},
   "outputs": [
    {
     "data": {
      "text/plain": [
       "2      366\n",
       "365    355\n",
       "200    256\n",
       "710    234\n",
       "220    171\n",
       "740    171\n",
       "640    168\n",
       "255    158\n",
       "630    157\n",
       "666    127\n",
       "325    126\n",
       "645    119\n",
       "750    101\n",
       "652     88\n",
       "350     88\n",
       "651     84\n",
       "800     79\n",
       "230     74\n",
       "770     74\n",
       "160     70\n",
       "135     70\n",
       "732     66\n",
       "345     61\n",
       "155     60\n",
       "713     58\n",
       "530     54\n",
       "731     52\n",
       "100     51\n",
       "355     50\n",
       "130     47\n",
       "      ... \n",
       "481      3\n",
       "273      2\n",
       "482      2\n",
       "553      2\n",
       "570      2\n",
       "940      2\n",
       "337      2\n",
       "705      2\n",
       "565      2\n",
       "404      2\n",
       "420      2\n",
       "275      2\n",
       "317      2\n",
       "53       1\n",
       "56       1\n",
       "57       1\n",
       "986      1\n",
       "223      1\n",
       "31       1\n",
       "280      1\n",
       "58       1\n",
       "581      1\n",
       "332      1\n",
       "55       1\n",
       "701      1\n",
       "370      1\n",
       "781      1\n",
       "580      1\n",
       "54       1\n",
       "51       1\n",
       "Name: ccode, Length: 192, dtype: int64"
      ]
     },
     "execution_count": 36,
     "metadata": {},
     "output_type": "execute_result"
    }
   ],
   "source": [
    "MID_Total.ccode.value_counts()"
   ]
  },
  {
   "cell_type": "code",
   "execution_count": 37,
   "metadata": {},
   "outputs": [
    {
     "data": {
      "text/plain": [
       "<matplotlib.axes._subplots.AxesSubplot at 0x1a0f3347f0>"
      ]
     },
     "execution_count": 37,
     "metadata": {},
     "output_type": "execute_result"
    },
    {
     "data": {
      "image/png": "[encoded data removed]",
      "text/plain": [
       "<Figure size 432x288 with 1 Axes>"
      ]
     },
     "metadata": {},
     "output_type": "display_data"
    }
   ],
   "source": [
    "MID_Total.ccode.hist(edgecolor='Black')"
   ]
  },
  {
   "cell_type": "code",
   "execution_count": 38,
   "metadata": {},
   "outputs": [
    {
     "name": "stdout",
     "output_type": "stream",
     "text": [
      "0     436\n",
      "7     276\n",
      "17    255\n",
      "20    237\n",
      "15    216\n",
      "16    190\n",
      "14    142\n",
      "1      82\n",
      "13     59\n",
      "8      31\n",
      "21     26\n",
      "12     25\n",
      "10     21\n",
      "11     19\n",
      "18      7\n",
      "3       4\n",
      "4       2\n",
      "2       2\n",
      "Name: HiAct_B, dtype: int64\n",
      "AxesSubplot(0.08,0.125;0.87x0.755)\n"
     ]
    },
    {
     "data": {
      "image/png": "[encoded data removed]",
      "text/plain": [
       "<Figure size 432x288 with 1 Axes>"
      ]
     },
     "metadata": {},
     "output_type": "display_data"
    }
   ],
   "source": [
    "print(MID_no_mate.HiAct_B.value_counts())\n",
    "print(MID_no_mate.MaxDur.hist(edgecolor='black'))"
   ]
  },
  {
   "cell_type": "code",
   "execution_count": 48,
   "metadata": {},
   "outputs": [
    {
     "ename": "ValueError",
     "evalue": "Input contains NaN, infinity or a value too large for dtype('float64').",
     "output_type": "error",
     "traceback": [
      "\u001b[0;31m---------------------------------------------------------------------------\u001b[0m",
      "\u001b[0;31mValueError\u001b[0m                                Traceback (most recent call last)",
      "\u001b[0;32m<ipython-input-48-780fc20b9e58>\u001b[0m in \u001b[0;36m<module>\u001b[0;34m()\u001b[0m\n\u001b[1;32m      6\u001b[0m \u001b[0mX_train\u001b[0m\u001b[0;34m,\u001b[0m \u001b[0mX_test\u001b[0m\u001b[0;34m,\u001b[0m \u001b[0my_train\u001b[0m\u001b[0;34m,\u001b[0m \u001b[0my_test\u001b[0m \u001b[0;34m=\u001b[0m \u001b[0mtrain_test_split\u001b[0m\u001b[0;34m(\u001b[0m\u001b[0mX\u001b[0m\u001b[0;34m,\u001b[0m\u001b[0my\u001b[0m\u001b[0;34m,\u001b[0m\u001b[0mtest_size\u001b[0m \u001b[0;34m=\u001b[0m \u001b[0;36m0.2\u001b[0m\u001b[0;34m,\u001b[0m \u001b[0mrandom_state\u001b[0m\u001b[0;34m=\u001b[0m\u001b[0;36m42\u001b[0m\u001b[0;34m)\u001b[0m\u001b[0;34m\u001b[0m\u001b[0m\n\u001b[1;32m      7\u001b[0m \u001b[0mss\u001b[0m \u001b[0;34m=\u001b[0m \u001b[0mStandardScaler\u001b[0m\u001b[0;34m(\u001b[0m\u001b[0;34m)\u001b[0m\u001b[0;34m\u001b[0m\u001b[0m\n\u001b[0;32m----> 8\u001b[0;31m \u001b[0mX_train\u001b[0m \u001b[0;34m=\u001b[0m \u001b[0mss\u001b[0m\u001b[0;34m.\u001b[0m\u001b[0mfit_transform\u001b[0m\u001b[0;34m(\u001b[0m\u001b[0mX_train\u001b[0m\u001b[0;34m)\u001b[0m\u001b[0;34m\u001b[0m\u001b[0m\n\u001b[0m\u001b[1;32m      9\u001b[0m \u001b[0mX_test\u001b[0m \u001b[0;34m=\u001b[0m \u001b[0mss\u001b[0m\u001b[0;34m.\u001b[0m\u001b[0mtransform\u001b[0m\u001b[0;34m(\u001b[0m\u001b[0mX_test\u001b[0m\u001b[0;34m)\u001b[0m\u001b[0;34m\u001b[0m\u001b[0m\n",
      "\u001b[0;32m~/Desktop/anaconda/lib/python3.6/site-packages/sklearn/base.py\u001b[0m in \u001b[0;36mfit_transform\u001b[0;34m(self, X, y, **fit_params)\u001b[0m\n\u001b[1;32m    515\u001b[0m         \u001b[0;32mif\u001b[0m \u001b[0my\u001b[0m \u001b[0;32mis\u001b[0m \u001b[0;32mNone\u001b[0m\u001b[0;34m:\u001b[0m\u001b[0;34m\u001b[0m\u001b[0m\n\u001b[1;32m    516\u001b[0m             \u001b[0;31m# fit method of arity 1 (unsupervised transformation)\u001b[0m\u001b[0;34m\u001b[0m\u001b[0;34m\u001b[0m\u001b[0m\n\u001b[0;32m--> 517\u001b[0;31m             \u001b[0;32mreturn\u001b[0m \u001b[0mself\u001b[0m\u001b[0;34m.\u001b[0m\u001b[0mfit\u001b[0m\u001b[0;34m(\u001b[0m\u001b[0mX\u001b[0m\u001b[0;34m,\u001b[0m \u001b[0;34m**\u001b[0m\u001b[0mfit_params\u001b[0m\u001b[0;34m)\u001b[0m\u001b[0;34m.\u001b[0m\u001b[0mtransform\u001b[0m\u001b[0;34m(\u001b[0m\u001b[0mX\u001b[0m\u001b[0;34m)\u001b[0m\u001b[0;34m\u001b[0m\u001b[0m\n\u001b[0m\u001b[1;32m    518\u001b[0m         \u001b[0;32melse\u001b[0m\u001b[0;34m:\u001b[0m\u001b[0;34m\u001b[0m\u001b[0m\n\u001b[1;32m    519\u001b[0m             \u001b[0;31m# fit method of arity 2 (supervised transformation)\u001b[0m\u001b[0;34m\u001b[0m\u001b[0;34m\u001b[0m\u001b[0m\n",
      "\u001b[0;32m~/Desktop/anaconda/lib/python3.6/site-packages/sklearn/preprocessing/data.py\u001b[0m in \u001b[0;36mfit\u001b[0;34m(self, X, y)\u001b[0m\n\u001b[1;32m    588\u001b[0m         \u001b[0;31m# Reset internal state before fitting\u001b[0m\u001b[0;34m\u001b[0m\u001b[0;34m\u001b[0m\u001b[0m\n\u001b[1;32m    589\u001b[0m         \u001b[0mself\u001b[0m\u001b[0;34m.\u001b[0m\u001b[0m_reset\u001b[0m\u001b[0;34m(\u001b[0m\u001b[0;34m)\u001b[0m\u001b[0;34m\u001b[0m\u001b[0m\n\u001b[0;32m--> 590\u001b[0;31m         \u001b[0;32mreturn\u001b[0m \u001b[0mself\u001b[0m\u001b[0;34m.\u001b[0m\u001b[0mpartial_fit\u001b[0m\u001b[0;34m(\u001b[0m\u001b[0mX\u001b[0m\u001b[0;34m,\u001b[0m \u001b[0my\u001b[0m\u001b[0;34m)\u001b[0m\u001b[0;34m\u001b[0m\u001b[0m\n\u001b[0m\u001b[1;32m    591\u001b[0m \u001b[0;34m\u001b[0m\u001b[0m\n\u001b[1;32m    592\u001b[0m     \u001b[0;32mdef\u001b[0m \u001b[0mpartial_fit\u001b[0m\u001b[0;34m(\u001b[0m\u001b[0mself\u001b[0m\u001b[0;34m,\u001b[0m \u001b[0mX\u001b[0m\u001b[0;34m,\u001b[0m \u001b[0my\u001b[0m\u001b[0;34m=\u001b[0m\u001b[0;32mNone\u001b[0m\u001b[0;34m)\u001b[0m\u001b[0;34m:\u001b[0m\u001b[0;34m\u001b[0m\u001b[0m\n",
      "\u001b[0;32m~/Desktop/anaconda/lib/python3.6/site-packages/sklearn/preprocessing/data.py\u001b[0m in \u001b[0;36mpartial_fit\u001b[0;34m(self, X, y)\u001b[0m\n\u001b[1;32m    610\u001b[0m         \"\"\"\n\u001b[1;32m    611\u001b[0m         X = check_array(X, accept_sparse=('csr', 'csc'), copy=self.copy,\n\u001b[0;32m--> 612\u001b[0;31m                         warn_on_dtype=True, estimator=self, dtype=FLOAT_DTYPES)\n\u001b[0m\u001b[1;32m    613\u001b[0m \u001b[0;34m\u001b[0m\u001b[0m\n\u001b[1;32m    614\u001b[0m         \u001b[0;31m# Even in the case of `with_mean=False`, we update the mean anyway\u001b[0m\u001b[0;34m\u001b[0m\u001b[0;34m\u001b[0m\u001b[0m\n",
      "\u001b[0;32m~/Desktop/anaconda/lib/python3.6/site-packages/sklearn/utils/validation.py\u001b[0m in \u001b[0;36mcheck_array\u001b[0;34m(array, accept_sparse, dtype, order, copy, force_all_finite, ensure_2d, allow_nd, ensure_min_samples, ensure_min_features, warn_on_dtype, estimator)\u001b[0m\n\u001b[1;32m    451\u001b[0m                              % (array.ndim, estimator_name))\n\u001b[1;32m    452\u001b[0m         \u001b[0;32mif\u001b[0m \u001b[0mforce_all_finite\u001b[0m\u001b[0;34m:\u001b[0m\u001b[0;34m\u001b[0m\u001b[0m\n\u001b[0;32m--> 453\u001b[0;31m             \u001b[0m_assert_all_finite\u001b[0m\u001b[0;34m(\u001b[0m\u001b[0marray\u001b[0m\u001b[0;34m)\u001b[0m\u001b[0;34m\u001b[0m\u001b[0m\n\u001b[0m\u001b[1;32m    454\u001b[0m \u001b[0;34m\u001b[0m\u001b[0m\n\u001b[1;32m    455\u001b[0m     \u001b[0mshape_repr\u001b[0m \u001b[0;34m=\u001b[0m \u001b[0m_shape_repr\u001b[0m\u001b[0;34m(\u001b[0m\u001b[0marray\u001b[0m\u001b[0;34m.\u001b[0m\u001b[0mshape\u001b[0m\u001b[0;34m)\u001b[0m\u001b[0;34m\u001b[0m\u001b[0m\n",
      "\u001b[0;32m~/Desktop/anaconda/lib/python3.6/site-packages/sklearn/utils/validation.py\u001b[0m in \u001b[0;36m_assert_all_finite\u001b[0;34m(X)\u001b[0m\n\u001b[1;32m     42\u001b[0m             and not np.isfinite(X).all()):\n\u001b[1;32m     43\u001b[0m         raise ValueError(\"Input contains NaN, infinity\"\n\u001b[0;32m---> 44\u001b[0;31m                          \" or a value too large for %r.\" % X.dtype)\n\u001b[0m\u001b[1;32m     45\u001b[0m \u001b[0;34m\u001b[0m\u001b[0m\n\u001b[1;32m     46\u001b[0m \u001b[0;34m\u001b[0m\u001b[0m\n",
      "\u001b[0;31mValueError\u001b[0m: Input contains NaN, infinity or a value too large for dtype('float64')."
     ]
    }
   ],
   "source": [
    "x_list2 = (['Settle', 'Fatality_B', 'HiAct_B', 'MaxDur', 'HostLev_B', 'Recip', 'NumA', 'NumB', 'Orig'])\n",
    "x_list = (['HiAct_B', 'MaxDur', 'HostLev_B', 'Recip', 'NumA', 'NumB', 'ccode'])\n",
    "X = MID_no_mate[x_list]\n",
    "y = MID_no_mate.Outcome\n",
    "#X = X.reshape(-1, 1)\n",
    "X_train, X_test, y_train, y_test = train_test_split(X,y,test_size = 0.2, random_state=42)\n",
    "ss = StandardScaler()\n",
    "X_train = ss.fit_transform(X_train)\n",
    "X_test = ss.transform(X_test)"
   ]
  },
  {
   "cell_type": "code",
   "execution_count": 41,
   "metadata": {},
   "outputs": [
    {
     "data": {
      "text/plain": [
       "LogisticRegression(C=1000, class_weight=None, dual=False, fit_intercept=True,\n",
       "          intercept_scaling=1, max_iter=100, multi_class='ovr', n_jobs=1,\n",
       "          penalty='l2', random_state=None, solver='liblinear', tol=0.0001,\n",
       "          verbose=0, warm_start=False)"
      ]
     },
     "execution_count": 41,
     "metadata": {},
     "output_type": "execute_result"
    }
   ],
   "source": [
    "lm1 = LogisticRegression(C=1000)\n",
    "lm1.fit(X_train, y_train)\n"
   ]
  },
  {
   "cell_type": "code",
   "execution_count": 42,
   "metadata": {},
   "outputs": [
    {
     "name": "stdout",
     "output_type": "stream",
     "text": [
      "0.4827586206896552\n"
     ]
    }
   ],
   "source": [
    "print(lm1.score(X_test, y_test))\n"
   ]
  },
  {
   "cell_type": "code",
   "execution_count": null,
   "metadata": {},
   "outputs": [],
   "source": []
  },
  {
   "cell_type": "code",
   "execution_count": 43,
   "metadata": {},
   "outputs": [
    {
     "data": {
      "text/plain": [
       "0.5123152709359606"
      ]
     },
     "execution_count": 43,
     "metadata": {},
     "output_type": "execute_result"
    }
   ],
   "source": [
    "\n",
    "knn = KNeighborsClassifier(n_neighbors=5)\n",
    "knn.fit(X_train, y_train)\n",
    "knn.score(X_test, y_test)"
   ]
  },
  {
   "cell_type": "code",
   "execution_count": 44,
   "metadata": {},
   "outputs": [
    {
     "data": {
      "text/plain": [
       "0.4433497536945813"
      ]
     },
     "execution_count": 44,
     "metadata": {},
     "output_type": "execute_result"
    }
   ],
   "source": [
    "from sklearn.svm import LinearSVC\n",
    "\n",
    "svc = LinearSVC()\n",
    "svc.fit(X_train, y_train)\n",
    "svc.score(X_test, y_test)"
   ]
  },
  {
   "cell_type": "code",
   "execution_count": 45,
   "metadata": {},
   "outputs": [
    {
     "data": {
      "text/plain": [
       "GridSearchCV(cv=5, error_score='raise',\n",
       "       estimator=LinearSVC(C=1.0, class_weight=None, dual=True, fit_intercept=True,\n",
       "     intercept_scaling=1, loss='squared_hinge', max_iter=1000,\n",
       "     multi_class='ovr', penalty='l2', random_state=None, tol=0.0001,\n",
       "     verbose=0),\n",
       "       fit_params=None, iid=True, n_jobs=-1,\n",
       "       param_grid={'C': array([1.e-07, 1.e+01, 2.e+01, 3.e+01, 4.e+01, 5.e+01, 6.e+01, 7.e+01,\n",
       "       8.e+01, 9.e+01, 1.e+02])},\n",
       "       pre_dispatch='2*n_jobs', refit=True, return_train_score='warn',\n",
       "       scoring='accuracy', verbose=0)"
      ]
     },
     "execution_count": 45,
     "metadata": {},
     "output_type": "execute_result"
    }
   ],
   "source": [
    "param_grid = {'C': np.linspace(1e-7,1e2,11)}\n",
    "grid = GridSearchCV(LinearSVC(), param_grid=param_grid, cv=5, scoring='accuracy',n_jobs=-1)\n",
    "grid.fit(X_train,y_train)\n"
   ]
  },
  {
   "cell_type": "code",
   "execution_count": 46,
   "metadata": {},
   "outputs": [
    {
     "data": {
      "text/plain": [
       "0.6330049261083743"
      ]
     },
     "execution_count": 46,
     "metadata": {},
     "output_type": "execute_result"
    }
   ],
   "source": [
    "dt = DecisionTreeClassifier()\n",
    "dt.fit(X_train, y_train)\n",
    "dt.score(X_test, y_test)"
   ]
  },
  {
   "cell_type": "code",
   "execution_count": 47,
   "metadata": {},
   "outputs": [
    {
     "data": {
      "text/plain": [
       "0.6674876847290641"
      ]
     },
     "execution_count": 47,
     "metadata": {},
     "output_type": "execute_result"
    }
   ],
   "source": [
    "rf = RandomForestClassifier(n_estimators=50)\n",
    "rf.fit(X_train, y_train)\n",
    "rf.score(X_test, y_test)"
   ]
  },
  {
   "cell_type": "code",
   "execution_count": null,
   "metadata": {},
   "outputs": [],
   "source": [
    "MID_Total.DispNum4_A.unique()"
   ]
  },
  {
   "cell_type": "code",
   "execution_count": null,
   "metadata": {},
   "outputs": [],
   "source": [
    "\"\"\"#MID_Total = MID_Total.fillna(-9)\n",
    "MID_Total = MID_Total.replace(np.nan, -9)\n",
    "MID_no_mate = MID_no_mate.replace(np.nan, -9)\n",
    "change = ['DispNum4_A', 'StDay_A', 'EndDay_B', 'Outcome', 'Settle', 'Fatality_A', 'FatalPre', 'DispNum4_B', 'StDay_B', 'RevType2', 'Fatality_B', 'FataPre']\n",
    "for x in change:\n",
    "    MID_Total[x] = MID_Total[x].astype('int')\n",
    "    MID_no_mate[x] = MID_no_mate[x].astype('int')\n",
    "\n",
    "MID_Total['StDay_A'] = MID_Total['StDay_A'].astype('int')\n",
    "MID_Total['Outcome'] = MID_Total['Outcome'].astype('int')\n",
    "MID_Total['Settle'] = MID_Total['Settle'].astype('int')\n",
    "MID_Total['StDay_A'] = MID_Total['StDay_A'].astype('int')\n",
    "MID_Total['StDay_A'] = MID_Total['StDay_A'].astype('int')\n",
    "MID_Total['StDay_A'] = MID_Total['StDay_A'].astype('int')\n",
    "MID_Total['StDay_A'] = MID_Total['StDay_A'].astype('int')\n",
    "MID_Total['StDay_A'] = MID_Total['StDay_A'].astype('int')\"\"\"\n"
   ]
  },
  {
   "cell_type": "code",
   "execution_count": null,
   "metadata": {},
   "outputs": [],
   "source": [
    "MID_no_mate.info()"
   ]
  },
  {
   "cell_type": "code",
   "execution_count": null,
   "metadata": {},
   "outputs": [],
   "source": [
    "MID_Total = MID_Total.replace(-9, np.nan)\n",
    "MID_no_mate = MID_no_mate.replace(-9, np.nan)\n",
    "MID_Total.info()"
   ]
  },
  {
   "cell_type": "code",
   "execution_count": null,
   "metadata": {},
   "outputs": [],
   "source": [
    "MID_no_mate.info()"
   ]
  },
  {
   "cell_type": "code",
   "execution_count": null,
   "metadata": {},
   "outputs": [],
   "source": [
    "print(MID_Total.Stalemate.value_counts())\n",
    "print(\"There is a stalemate\", round(100 * (3868 / (3868 + 2030)), 2), \"percent of the time.\")"
   ]
  },
  {
   "cell_type": "code",
   "execution_count": null,
   "metadata": {},
   "outputs": [],
   "source": []
  },
  {
   "cell_type": "code",
   "execution_count": null,
   "metadata": {},
   "outputs": [],
   "source": [
    "dt2 = DecisionTreeClassifier()\n",
    "dt2.fit(X2_train, y2_train)\n",
    "dt2.score(X2_test, y2_test)"
   ]
  },
  {
   "cell_type": "code",
   "execution_count": null,
   "metadata": {},
   "outputs": [],
   "source": [
    "rf2 = RandomForestClassifier(n_estimators=50)\n",
    "rf2.fit(X2_train, y2_train)\n",
    "rf2.score(X2_test, y2_test)"
   ]
  },
  {
   "cell_type": "code",
   "execution_count": null,
   "metadata": {},
   "outputs": [],
   "source": [
    "import pandas.io.sql as pd_sql\n",
    "# Postgres info to connect\n",
    "\n",
    "connection_args = {\n",
    "    'host': '13.58.222.85', # You'll have to update this to your IP\n",
    "    'user': 'ubuntu',    # username\n",
    "    'dbname': 'names',   # DB that we are connecting to\n",
    "    'port': 5432         # port we opened on AWS\n",
    "}\n",
    "\n",
    "# We will talk about this magic Python trick!\n",
    "connection = pg.connect(**connection_args)"
   ]
  },
  {
   "cell_type": "code",
   "execution_count": null,
   "metadata": {},
   "outputs": [],
   "source": [
    "MID_Total.info()"
   ]
  },
  {
   "cell_type": "code",
   "execution_count": null,
   "metadata": {},
   "outputs": [],
   "source": [
    "\"\"\"CREATE TABLE MID_Total (\n",
    "DispNum3 INT,\n",
    "DispNum4_A INT,\n",
    "StDay_A INT,\n",
    "StMon_A INT,\n",
    "StYear_A INT,\n",
    "EndDay_A INT,\n",
    "EndMon_A INT,\n",
    "EndYear_A INT,\n",
    "Outcome INT,\n",
    "Settle INT,\n",
    "Fatality_A INT,\n",
    "FatalPre INT,\n",
    "MaxDur INT,\n",
    "MinDur INT,\n",
    "HiAct_A INT,\n",
    "HostLev_A INT,\n",
    "Recip INT,\n",
    "NumA INT,\n",
    "NumB INT,\n",
    "Link1 TEXT,\n",
    "Link2 TEXT,\n",
    "Link3 DOUBLE PRECISION,\n",
    "Ongo2010 INT,\n",
    "Version_A DOUBLE PRECISION,\n",
    "DispNum4_B INT,\n",
    "StAbb TEXT,\n",
    "ccode INT,\n",
    "StDay_B INT,\n",
    "StMon_B INT,\n",
    "StYear_B INT,\n",
    "EndDay_B INT,\n",
    "EndMon_B INT,\n",
    "EndYear_B INT,\n",
    "SideA INT,\n",
    "RevState INT,\n",
    "RevType1 INT,\n",
    "RevType2 INT,\n",
    "Fatality_B INT,\n",
    "FataPre INT,\n",
    "HiAct_B INT,\n",
    "HostLev_B INT,\n",
    "Orig INT,\n",
    "Version_B DOUBLE PRECISION,\n",
    "Stalemate INT\n",
    ");\n",
    "\"\"\""
   ]
  },
  {
   "cell_type": "code",
   "execution_count": null,
   "metadata": {},
   "outputs": [],
   "source": [
    "\"\"\"CREATE TABLE mid_no_mate (\n",
    "DispNum3 INT,\n",
    "DispNum4_A DOUBLE PRECISION,\n",
    "StDay_A DOUBLE PRECISION,\n",
    "StMon_A INT,\n",
    "StYear_A INT,\n",
    "EndDay_A DOUBLE PRECISION,\n",
    "EndMon_A INT,\n",
    "EndYear_A INT,\n",
    "Outcome DOUBLE PRECISION,\n",
    "Settle DOUBLE PRECISION,\n",
    "Fatality_A DOUBLE PRECISION,\n",
    "FatalPre DOUBLE PRECISION,\n",
    "MaxDur INT,\n",
    "MinDur INT,\n",
    "HiAct_A INT,\n",
    "HostLev_A INT,\n",
    "Recip INT,\n",
    "NumA INT,\n",
    "NumB INT,\n",
    "Link1 INT,\n",
    "Link2 INT,\n",
    "Link3 DOUBLE PRECISION,\n",
    "Ongo2010 INT,\n",
    "Version_A DOUBLE PRECISION,\n",
    "DispNum4_B DOUBLE PRECISION,\n",
    "StAbb TEXT,\n",
    "ccode INT,\n",
    "StDay_B DOUBLE PRECISION,\n",
    "StMon_B INT,\n",
    "StYear_B INT,\n",
    "EndDay_B DOUBLE PRECISION,\n",
    "EndMon_B INT,\n",
    "EndYear_B INT,\n",
    "SideA INT,\n",
    "RevState INT,\n",
    "RevType1 INT,\n",
    "RevType2 DOUBLE PRECISION,\n",
    "Fatality_B DOUBLE PRECISION,\n",
    "FataPre DOUBLE PRECISION,\n",
    "HiAct_B INT,\n",
    "HostLev_B INT,\n",
    "Orig INT,\n",
    "Version_B DOUBLE PRECISION,\n",
    "Stalemate INT\n",
    ");\"\"\"\n"
   ]
  },
  {
   "cell_type": "code",
   "execution_count": null,
   "metadata": {},
   "outputs": [],
   "source": [
    "MID_no_mate.head()"
   ]
  },
  {
   "cell_type": "code",
   "execution_count": null,
   "metadata": {},
   "outputs": [],
   "source": [
    "MID_Total.info()"
   ]
  },
  {
   "cell_type": "code",
   "execution_count": null,
   "metadata": {},
   "outputs": [],
   "source": [
    "MID_no_mate.head()"
   ]
  },
  {
   "cell_type": "code",
   "execution_count": null,
   "metadata": {},
   "outputs": [],
   "source": [
    "MID_Total.to_csv('MID_Total.csv', index=False)\n",
    "MID_no_mate.to_csv('MID_no_mate.csv')"
   ]
  },
  {
   "cell_type": "code",
   "execution_count": null,
   "metadata": {},
   "outputs": [],
   "source": [
    "MID_Total = pd.read_csv('MID_Total.csv')\n",
    "MID_no_mate = pd.read_csv('MID_no_mate.csv')"
   ]
  },
  {
   "cell_type": "code",
   "execution_count": null,
   "metadata": {},
   "outputs": [],
   "source": [
    "MID_Total.Outcome.astype('category')\n",
    "MID_Total.Settle.astype('category')\n",
    "MID_Total.Fatality_A.astype('category')\n",
    "MID_Total.HiAct_A.astype('category')\n",
    "MID_Total.HostLev_A.astype('category')\n",
    "MID_Total.RevType1.astype('category')\n",
    "MID_Total.RevType2.astype('category')\n",
    "MID_Total.Fatality_B.astype('category')\n",
    "MID_Total.HiAct_B.astype('category')\n",
    "MID_Total.HostLev_B.astype('category')\n",
    "MID_Total.StAbb.astype('category')\n",
    "MID_Total.ccode.astype('category')\n",
    "MID_Total.SideA.astype('category')\n",
    "MID_Total.Recip.astype('category')\n",
    "MID_Total.RevState.astype('category')"
   ]
  },
  {
   "cell_type": "code",
   "execution_count": null,
   "metadata": {},
   "outputs": [],
   "source": [
    "MID_Total = MID_Total.replace(np.nan, -9)\n",
    "MID_no_mate = MID_no_mate.replace(np.nan, -9)"
   ]
  },
  {
   "cell_type": "code",
   "execution_count": null,
   "metadata": {},
   "outputs": [],
   "source": [
    "MID_no_mate.FataPre.unique()"
   ]
  },
  {
   "cell_type": "code",
   "execution_count": null,
   "metadata": {},
   "outputs": [],
   "source": [
    "model = RandomForestClassifier(n_estimators=50)\n",
    "parameters = {'alpha': [1e-5,1e-3,1e-1,1], 'fit_intercept': [True,False]}\n",
    "grid = GridSearchCV(model,parameters, cv=5, scoring='neg_mean_absolute_error', n_jobs=1)\n"
   ]
  },
  {
   "cell_type": "code",
   "execution_count": null,
   "metadata": {},
   "outputs": [],
   "source": [
    "x_list = (['Settle', 'Fatality_B', 'FataPre', 'HiAct_B', 'MaxDur', 'HostLev_B', 'Recip', 'NumA', 'NumB', 'ccode', 'Link1'])\n",
    "X = MID_no_mate[x_list]\n",
    "y = MID_no_mate.Outcome\n",
    "#X = X.reshape(-1, 1)\n",
    "X_train, X_test, y_train, y_test = train_test_split(X,y,test_size = 0.2, random_state=42)\n",
    "ss = StandardScaler()\n",
    "X_train = ss.fit_transform(X_train)\n",
    "X_test = ss.transform(X_test)"
   ]
  },
  {
   "cell_type": "code",
   "execution_count": null,
   "metadata": {},
   "outputs": [],
   "source": [
    "bc = BaggingClassifier(base_estimator=DecisionTreeClassifier(), n_estimators=50, n_jobs=1)\n",
    "bc.fit(X_train, y_train)\n",
    "outcome_score = bc.score(X_test, y_test)\n",
    "print(\"Second model predicts the outcome\", round(100 * outcome_score, 2), \"percent of the time.\")"
   ]
  },
  {
   "cell_type": "code",
   "execution_count": null,
   "metadata": {},
   "outputs": [],
   "source": [
    "rf = RandomForestClassifier(n_estimators=50)\n",
    "rf.fit(X_train, y_train)\n",
    "rf.score(X_test, y_test)"
   ]
  },
  {
   "cell_type": "code",
   "execution_count": null,
   "metadata": {},
   "outputs": [],
   "source": [
    "for feat, imp in zip(range(1, 12), rf.feature_importances_):\n",
    "    print(\"Feat %i: \"%feat, imp)"
   ]
  },
  {
   "cell_type": "code",
   "execution_count": null,
   "metadata": {},
   "outputs": [],
   "source": [
    "train_score = []\n",
    "test_score = []\n",
    "\n",
    "for depth in range(1,200):\n",
    "    dt = RandomForestClassifier(n_estimators=50, max_depth=depth, n_jobs=-1)\n",
    "    dt.fit(X_train, y_train)\n",
    "    train_score.append(dt.score(X_train, y_train))\n",
    "    test_score.append(dt.score(X_test, y_test))\n",
    "    \n",
    "plt.figure(dpi=150)\n",
    "plt.plot(range(1,200), train_score, 'g', label=\"Train\")\n",
    "plt.plot(range(1,200), test_score, 'b', label=\"Test\")\n",
    "plt.legend(loc='upper right')\n",
    "plt.xlabel(\"Max Depth in Tree\")\n",
    "plt.ylabel(\"Accuracy\");"
   ]
  },
  {
   "cell_type": "code",
   "execution_count": null,
   "metadata": {},
   "outputs": [],
   "source": [
    "MID_Total.info()"
   ]
  },
  {
   "cell_type": "code",
   "execution_count": null,
   "metadata": {},
   "outputs": [],
   "source": [
    "MID_Total.Link1.unique()"
   ]
  },
  {
   "cell_type": "code",
   "execution_count": null,
   "metadata": {},
   "outputs": [],
   "source": [
    "x_list = (['HiAct_B', 'MaxDur', 'HostLev_B', 'Recip', 'NumA', 'NumB', 'ccode'])"
   ]
  },
  {
   "cell_type": "code",
   "execution_count": null,
   "metadata": {},
   "outputs": [],
   "source": [
    "MID_Total = MID_Total.replace('147W', '147')\n",
    "x_list = (['Settle', 'Fatality_B', 'FataPre', 'HiAct_B', 'MaxDur', 'HostLev_B', 'Recip', 'NumA', 'NumB', 'ccode', 'Link1'])\n",
    "X2 = MID_Total[x_list]\n",
    "y2 = MID_Total.Stalemate\n",
    "#X = X.reshape(-1, 1)\n",
    "X2_train, X2_test, y2_train, y2_test = train_test_split(X2,y2,test_size = 0.2, random_state=42)\n",
    "ss = StandardScaler()\n",
    "X2_train = ss.fit_transform(X2_train)\n",
    "X2_test = ss.transform(X2_test)"
   ]
  },
  {
   "cell_type": "code",
   "execution_count": null,
   "metadata": {},
   "outputs": [],
   "source": [
    "n_estimators=50"
   ]
  },
  {
   "cell_type": "code",
   "execution_count": null,
   "metadata": {},
   "outputs": [],
   "source": [
    "bc2 = BaggingClassifier(base_estimator=DecisionTreeClassifier(), n_estimators=50, n_jobs=1)\n",
    "bc2.fit(X2_train, y2_train)\n",
    "stalemate_score = bc2.score(X2_test, y2_test)\n",
    "print(\"First model predicts a stalemate\", round(100 * stalemate_score,2), \"percent of the time.\")"
   ]
  },
  {
   "cell_type": "code",
   "execution_count": null,
   "metadata": {},
   "outputs": [],
   "source": [
    "rf2 = RandomForestClassifier(n_estimators=50)\n",
    "rf2.fit(X2_train, y2_train)\n",
    "rf2.score(X2_test, y2_test)"
   ]
  },
  {
   "cell_type": "code",
   "execution_count": null,
   "metadata": {},
   "outputs": [],
   "source": [
    "for feat, imp in zip(range(1, 12), rf2.feature_importances_):\n",
    "    print(\"Feat %i: \"%feat, imp)"
   ]
  },
  {
   "cell_type": "code",
   "execution_count": null,
   "metadata": {},
   "outputs": [],
   "source": [
    "train_score = []\n",
    "test_score = []\n",
    "\n",
    "for depth in range(1,200):\n",
    "    dt = RandomForestClassifier(n_estimators=50, max_depth=depth, n_jobs=-1)\n",
    "    dt.fit(X2_train, y2_train)\n",
    "    train_score.append(dt.score(X2_train, y2_train))\n",
    "    test_score.append(dt.score(X2_test, y2_test))\n",
    "    \n",
    "plt.figure(dpi=150)\n",
    "plt.plot(range(1,200), train_score, 'g', label=\"Train\")\n",
    "plt.plot(range(1,200), test_score, 'b', label=\"Test\")\n",
    "plt.legend(loc='upper right')\n",
    "plt.xlabel(\"Max Depth in Tree\")\n",
    "plt.ylabel(\"Accuracy\");"
   ]
  },
  {
   "cell_type": "code",
   "execution_count": null,
   "metadata": {},
   "outputs": [],
   "source": []
  }
 ],
 "metadata": {
  "kernelspec": {
   "display_name": "Python 3",
   "language": "python",
   "name": "python3"
  },
  "language_info": {
   "codemirror_mode": {
    "name": "ipython",
    "version": 3
   },
   "file_extension": ".py",
   "mimetype": "text/x-python",
   "name": "python",
   "nbconvert_exporter": "python",
   "pygments_lexer": "ipython3",
   "version": "3.6.5"
  }
 },
 "nbformat": 4,
 "nbformat_minor": 2
}
